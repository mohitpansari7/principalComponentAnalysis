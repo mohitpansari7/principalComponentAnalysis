{
 "cells": [
  {
   "cell_type": "markdown",
   "metadata": {},
   "source": [
    "Principal Component Analysis from Scratch\n"
   ]
  },
  {
   "cell_type": "markdown",
   "metadata": {},
   "source": [
    "All the required libraries are imported here\n"
   ]
  },
  {
   "cell_type": "code",
   "execution_count": 23,
   "metadata": {},
   "outputs": [],
   "source": [
    "import numpy as np\n",
    "import pandas as pd\n",
    "import matplotlib.pyplot as plt\n",
    "import seaborn as sn\n",
    "from sklearn.preprocessing import StandardScaler\n",
    "from scipy.linalg import eigh"
   ]
  },
  {
   "cell_type": "markdown",
   "metadata": {},
   "source": [
    "Reading heart data from csv and showing its output\n"
   ]
  },
  {
   "cell_type": "code",
   "execution_count": 5,
   "metadata": {},
   "outputs": [
    {
     "name": "stdout",
     "output_type": "stream",
     "text": [
      "   age  sex  cp  trtbps  chol  fbs  restecg  thalachh  exng  oldpeak  slp  \\\n",
      "0   63    1   3     145   233    1        0       150     0      2.3    0   \n",
      "1   37    1   2     130   250    0        1       187     0      3.5    0   \n",
      "2   41    0   1     130   204    0        0       172     0      1.4    2   \n",
      "3   56    1   1     120   236    0        1       178     0      0.8    2   \n",
      "4   57    0   0     120   354    0        1       163     1      0.6    2   \n",
      "\n",
      "   caa  thall  output  \n",
      "0    0      1       1  \n",
      "1    0      2       1  \n",
      "2    0      2       1  \n",
      "3    0      2       1  \n",
      "4    0      2       1  \n"
     ]
    }
   ],
   "source": [
    "allData = pd.read_csv('heart.csv')\n",
    "print(allData.head())"
   ]
  },
  {
   "cell_type": "markdown",
   "metadata": {},
   "source": [
    "Removing last output column from dataFrame to have a clear picture of PCA"
   ]
  },
  {
   "cell_type": "code",
   "execution_count": 40,
   "metadata": {},
   "outputs": [
    {
     "name": "stdout",
     "output_type": "stream",
     "text": [
      "   age  sex  cp  trtbps  chol  fbs  restecg  thalachh  exng  oldpeak  slp  \\\n",
      "0   63    1   3     145   233    1        0       150     0      2.3    0   \n",
      "1   37    1   2     130   250    0        1       187     0      3.5    0   \n",
      "2   41    0   1     130   204    0        0       172     0      1.4    2   \n",
      "3   56    1   1     120   236    0        1       178     0      0.8    2   \n",
      "4   57    0   0     120   354    0        1       163     1      0.6    2   \n",
      "\n",
      "   caa  thall  \n",
      "0    0      1  \n",
      "1    0      2  \n",
      "2    0      2  \n",
      "3    0      2  \n",
      "4    0      2  \n",
      "0      1\n",
      "1      1\n",
      "2      1\n",
      "3      1\n",
      "4      1\n",
      "      ..\n",
      "298    0\n",
      "299    0\n",
      "300    0\n",
      "301    0\n",
      "302    0\n",
      "Name: output, Length: 303, dtype: int64\n"
     ]
    }
   ],
   "source": [
    "dataWithoutOutput = allData.drop('output', axis= 1)\n",
    "print(dataWithoutOutput.head())\n",
    "\n",
    "output = allData['output']\n",
    "print(output)"
   ]
  },
  {
   "cell_type": "code",
   "execution_count": 20,
   "metadata": {},
   "outputs": [
    {
     "name": "stdout",
     "output_type": "stream",
     "text": [
      "[[ 0.9521966   0.68100522  1.97312292 ... -2.27457861 -0.71442887\n",
      "  -2.14887271]\n",
      " [-1.91531289  0.68100522  1.00257707 ... -2.27457861 -0.71442887\n",
      "  -0.51292188]\n",
      " [-1.47415758 -1.46841752  0.03203122 ...  0.97635214 -0.71442887\n",
      "  -0.51292188]\n",
      " ...\n",
      " [ 1.50364073  0.68100522 -0.93851463 ... -0.64911323  1.24459328\n",
      "   1.12302895]\n",
      " [ 0.29046364  0.68100522 -0.93851463 ... -0.64911323  0.26508221\n",
      "   1.12302895]\n",
      " [ 0.29046364 -1.46841752  0.03203122 ... -0.64911323  0.26508221\n",
      "  -0.51292188]]\n",
      "(303, 13)\n"
     ]
    }
   ],
   "source": [
    "standardizedData = StandardScaler().fit_transform(dataWithoutOutput)\n",
    "print(standardizedData)\n",
    "print(standardizedData.shape)"
   ]
  },
  {
   "cell_type": "code",
   "execution_count": 22,
   "metadata": {},
   "outputs": [
    {
     "name": "stdout",
     "output_type": "stream",
     "text": [
      "[[ 303.          -29.82932055  -20.8018638    84.64332469   64.74442084\n",
      "    36.75621737  -35.21190214 -120.75214725   29.33065042   63.63380791\n",
      "   -51.15071412   83.72685194   20.60441725]\n",
      " [ -29.82932055  303.          -14.95392123  -17.20095366  -59.96738876\n",
      "    13.64463213  -17.63346911  -13.33803205   42.92413473   29.11614175\n",
      "    -9.30530189   35.83320824   63.64245198]\n",
      " [ -20.8018638   -14.95392123  303.           14.42515148  -23.30203048\n",
      "    28.6165426    13.45943953   89.61592375 -119.46692135  -45.2167379\n",
      "    36.27412633  -54.85906689  -49.00587786]\n",
      " [  84.64332469  -17.20095366   14.42515148  303.           37.32178458\n",
      "    53.79175421  -34.57314428  -14.14941163   20.48768422   58.54459114\n",
      "   -36.80679832   30.72086255   18.84959595]\n",
      " [  64.74442084  -59.96738876  -23.30203048   37.32178458  303.\n",
      "     4.02796148  -45.76514374   -3.01177111   20.30790312   16.34743176\n",
      "    -1.22344442   21.36481034   29.93730673]\n",
      " [  36.75621737   13.64463213   28.6165426    53.79175421    4.02796148\n",
      "   303.          -25.50928349   -2.59583353    7.7765396     1.74140871\n",
      "   -18.14793602   41.80773609   -9.70185981]\n",
      " [ -35.21190214  -17.63346911   13.45943953  -34.57314428  -45.76514374\n",
      "   -25.50928349  303.           13.36940356  -21.43205533  -17.80737857\n",
      "    28.19258076  -21.82885727   -3.63036559]\n",
      " [-120.75214725  -13.33803205   89.61592375  -14.14941163   -3.01177111\n",
      "    -2.59583353   13.36940356  303.         -114.78006444 -104.28864523\n",
      "   117.19567617  -64.59260922  -29.22105689]\n",
      " [  29.33065042   42.92413473 -119.46692135   20.48768422   20.30790312\n",
      "     7.7765396   -21.43205533 -114.78006444  303.           87.33151076\n",
      "   -78.09775566   35.06903156   62.64639769]\n",
      " [  63.63380791   29.11614175  -45.2167379    58.54459114   16.34743176\n",
      "     1.74140871  -17.80737857 -104.28864523   87.33151076  303.\n",
      "  -174.99365547   67.47274351   63.70397017]\n",
      " [ -51.15071412   -9.30530189   36.27412633  -36.80679832   -1.22344442\n",
      "   -18.14793602   28.19258076  117.19567617  -78.09775566 -174.99365547\n",
      "   303.          -24.2870287   -31.74342977]\n",
      " [  83.72685194   35.83320824  -54.85906689   30.72086255   21.36481034\n",
      "    41.80773609  -21.82885727  -64.59260922   35.06903156   67.47274351\n",
      "   -24.2870287   303.           46.00513402]\n",
      " [  20.60441725   63.64245198  -49.00587786   18.84959595   29.93730673\n",
      "    -9.70185981   -3.63036559  -29.22105689   62.64639769   63.70397017\n",
      "   -31.74342977   46.00513402  303.        ]]\n",
      "Shape of covariance Matrix is  (13, 13)\n"
     ]
    }
   ],
   "source": [
    "covarianceMatrix = np.matmul(standardizedData.T, standardizedData)\n",
    "print(covarianceMatrix)\n",
    "print('Shape of covariance Matrix is ',covarianceMatrix.shape)"
   ]
  },
  {
   "cell_type": "markdown",
   "metadata": {},
   "source": [
    "Generating Eigen Vecor and Eigen Values of Covariance Matrix"
   ]
  },
  {
   "cell_type": "code",
   "execution_count": 69,
   "metadata": {},
   "outputs": [],
   "source": [
    "eigenValues, eigenVector = eigh(covarianceMatrix, eigvals=(11,12))"
   ]
  },
  {
   "cell_type": "code",
   "execution_count": 70,
   "metadata": {},
   "outputs": [
    {
     "name": "stdout",
     "output_type": "stream",
     "text": [
      "[112.67380134 128.21214138 160.62174368 188.33576626 217.83442781\n",
      " 235.11144963 261.41928791 293.91480763 309.65586161 357.88709029\n",
      " 370.51879274 465.61767726 837.19715247]\n",
      "(13, 13)\n",
      "[[ 0.18181083  0.06093808  0.00635061  0.0201296  -0.00745311 -0.12716692\n",
      "   0.07444225  0.31669181  0.14872674 -0.61457545 -0.64516376  0.15626403\n",
      "   0.01568971]\n",
      " [ 0.54823509 -0.01101603 -0.09720829 -0.25872142 -0.18379048  0.02472959\n",
      "  -0.00269438  0.60891132  0.2390786   0.34083261  0.13356599 -0.14603038\n",
      "  -0.07259319]\n",
      " [ 0.14054369  0.28760018 -0.59428374  0.06413037  0.10887361  0.14210271\n",
      "   0.09554476  0.03250678 -0.61590127  0.01524183 -0.16879774 -0.29673948\n",
      "  -0.04361098]\n",
      " [ 0.01672242 -0.53561904 -0.16435134 -0.07152427 -0.49516986  0.15369572\n",
      "  -0.2699657  -0.03081265 -0.19873186 -0.11138417 -0.05593369 -0.03532497\n",
      "   0.53083127]\n",
      " [-0.37900026 -0.1989252  -0.35143235  0.35039179 -0.1539752  -0.17700437\n",
      "  -0.03830435  0.37204449 -0.05850023  0.23360295 -0.02850469  0.48580844\n",
      "  -0.28420109]\n",
      " [-0.2624772  -0.17599193  0.04794993 -0.59533383  0.37238051  0.43286301\n",
      "   0.0998408   0.14346128 -0.11260655  0.1923232  -0.26180704  0.2596783\n",
      "   0.03434879]\n",
      " [-0.22373018 -0.16250682 -0.21538959  0.33276335  0.04932936  0.51081821\n",
      "   0.3968959   0.10147263  0.44991859 -0.11288781  0.05503797 -0.33760601\n",
      "   0.05516481]\n",
      " [-0.12829615  0.05496875 -0.19341117 -0.17945982 -0.10472957  0.24961364\n",
      "  -0.66681339 -0.12098445  0.23069914 -0.17007984 -0.06406935 -0.1821075\n",
      "  -0.50885654]\n",
      " [ 0.30715312 -0.0507044  -0.16317945 -0.18813809 -0.3200667   0.23344184\n",
      "   0.39366727 -0.32328431 -0.03453568 -0.25057927  0.24682275  0.43536515\n",
      "  -0.33195049]\n",
      " [ 0.0206618   0.25530873 -0.28790041 -0.02260103  0.34340982  0.06860532\n",
      "  -0.26609555  0.18412539  0.11505621 -0.32629597  0.49484894  0.32801632\n",
      "   0.38919138]\n",
      " [-0.09407661  0.55484915  0.35697431  0.2038493  -0.40782498  0.48173624\n",
      "  -0.08919083  0.15825529 -0.1263561   0.1103429  -0.07381839  0.18356934\n",
      "   0.12501113]\n",
      " [-0.40614872  0.37779171 -0.29726609 -0.43818675 -0.36451402 -0.31743328\n",
      "   0.22088181 -0.07787618  0.2631179   0.05225497 -0.04837415 -0.09414721\n",
      "   0.20072042]\n",
      " [ 0.31420252  0.09083783 -0.27460749  0.18392019  0.11737503  0.07363999\n",
      "  -0.12772792 -0.41649811  0.36126745  0.41963899 -0.37977222  0.27326172\n",
      "   0.22202375]]\n"
     ]
    }
   ],
   "source": [
    "print(eigenValues)\n",
    "\n",
    "eigenVector = eigenVector.T\n",
    "print(eigenVector.shape)\n",
    "print(eigenVector)"
   ]
  },
  {
   "cell_type": "code",
   "execution_count": 57,
   "metadata": {},
   "outputs": [
    {
     "name": "stdout",
     "output_type": "stream",
     "text": [
      "[[-2.32127028e+00  9.57350982e-01 -4.28847737e-02  4.95337323e-01\n",
      "  -3.01156175e-01  3.82882350e-01 -1.46021954e+00  1.15199470e+00\n",
      "  -1.17802505e+00 -6.00440468e-02  4.31111662e-01 -6.66082010e-01\n",
      "   3.62122452e-01  3.66100880e-01 -3.31505033e+00 -3.38842792e-02\n",
      "  -1.44304375e+00 -1.56563220e+00  5.93288357e-01 -2.04509682e+00\n",
      "   7.39533549e-01  1.05478211e+00  9.44816640e-01 -9.21609753e-01\n",
      "   1.31154957e+00 -2.60255695e+00 -1.29433620e+00  1.28905546e+00\n",
      "  -4.11799172e+00 -6.83863299e-01  9.04060838e-01  1.23607299e+00\n",
      "   4.11500959e-01 -3.70030395e-01  4.34762882e-01  9.36466989e-02\n",
      "  -2.27149641e+00 -4.38220805e-01 -2.01456281e+00 -3.21168571e+00\n",
      "  -1.74775482e+00  1.64062709e-01  2.29447547e+00 -5.82251192e-01\n",
      "  -6.01398620e-01  4.09448669e-02 -2.12736619e-01 -3.70308829e-01\n",
      "  -1.42913226e+00 -7.25685018e-01 -1.10788521e+00 -3.97205643e-01\n",
      "   7.42857672e-03  9.81680314e-01 -1.84323020e+00  5.46593725e-01\n",
      "   7.06723512e-01  7.52005344e-01  8.91051335e-01 -1.22947541e+00\n",
      "  -2.50933383e+00  7.38223238e-01 -2.47639537e-01  8.95169695e-01\n",
      "  -1.51234405e+00  8.48789968e-01  1.80679343e+00 -4.01042008e-01\n",
      "   1.13675227e+00 -1.91834447e-01  2.15242599e-01  1.98769071e+00\n",
      "   1.14139417e+00  4.08137174e-01  1.84934457e-01 -1.00307778e+00\n",
      "  -8.79489279e-01  5.38710651e-01 -2.56463178e-01  1.08443288e+00\n",
      "   9.40849473e-01 -1.48892731e-01 -9.78535417e-01 -1.60771202e+00\n",
      "   6.84698902e-01 -3.19974398e+00 -2.32348803e-01  1.16808381e+00\n",
      "   7.24242833e-02  1.55839503e-01 -7.71701262e-01  1.53038550e+00\n",
      "  -3.47178140e-01 -1.70969179e+00  1.09040659e+00  1.09883802e+00\n",
      "  -2.16304236e+00  5.17554030e-01 -5.76595678e-03 -1.58856809e+00\n",
      "  -8.16829513e-01 -1.57653769e+00 -1.06586014e+00  3.44255927e-01\n",
      "   5.47149621e-01 -1.06261808e+00 -2.84941902e+00  2.94463278e-01\n",
      "  -3.62769746e-02 -2.80553463e-02 -1.90838903e+00 -4.80380395e-01\n",
      "  -1.55192727e+00  2.14273598e+00  1.48979053e-01  3.84985508e-01\n",
      "   5.29495703e-01  3.11568230e-01  7.16422029e-01  1.91342721e-01\n",
      "  -9.69770490e-01 -5.17978486e-01  1.66117333e-01 -8.53020352e-01\n",
      "   1.02813770e+00  8.49784825e-01  1.70025940e+00 -2.29544296e+00\n",
      "  -8.87683868e-01 -1.14033501e+00 -1.34730906e+00 -5.03005648e-01\n",
      "   7.25253420e-01  1.47362290e+00 -2.73037781e-01 -1.82338061e-01\n",
      "  -1.02525927e+00 -9.96422582e-01  1.75577351e+00  1.13242627e+00\n",
      "  -1.15509250e+00  1.10576638e+00  2.71697450e-01 -1.63349949e-01\n",
      "  -1.00283690e+00 -1.43371763e+00  2.73621086e-03 -1.82350637e+00\n",
      "   8.09381006e-01  1.03745572e+00 -1.15403871e+00  4.08170719e-01\n",
      "  -1.57236212e+00 -2.38152957e+00 -5.03633148e-02  1.36373081e-01\n",
      "   2.00484134e-01  1.67346422e+00  5.29213408e-01  2.73396006e-01\n",
      "   6.19006677e-01 -1.26002507e+00  1.67406427e+00  6.04442562e-01\n",
      "   6.04442562e-01 -8.49963994e-01  9.51270294e-01 -1.28327713e+00\n",
      "   1.19898712e-01  5.65430839e-01 -1.16507761e+00  1.68196011e+00\n",
      "  -1.68105218e-01 -2.50122842e-01  1.15735347e+00  3.05618567e+00\n",
      "   6.22649680e-01 -1.31739406e+00  2.60320608e+00 -2.79448715e-01\n",
      "   7.54597839e-01 -1.16804208e+00 -1.59073877e+00  3.74670222e-01\n",
      "   4.90202634e-01  6.77304925e-01  1.17464142e+00  1.31513780e+00\n",
      "   3.53048268e-01  2.09653759e+00  5.68084873e-01  1.12872025e+00\n",
      "   1.77475747e+00  2.30563001e-01 -2.78204770e-01 -3.63324103e-01\n",
      "   2.49629513e-01 -6.06859830e-01  1.39438828e+00 -3.28011328e-01\n",
      "   1.30075367e+00  9.95774976e-01  4.00770853e-01 -2.31391554e+00\n",
      "  -6.46738596e-01  1.44794737e+00  1.47427040e+00 -1.15863210e+00\n",
      "   1.17577198e+00  1.38013666e+00 -1.74943974e-02  1.52222713e+00\n",
      "   2.26958995e+00 -7.12705025e-01 -6.50097304e-02 -5.89018929e-01\n",
      "  -7.05765553e-01 -9.41076514e-01  3.64042767e-02  2.01888579e-01\n",
      "  -2.36151943e+00  1.95314675e+00 -2.54563652e+00 -2.55026802e+00\n",
      "   2.24559036e+00  1.27610247e+00  8.60889850e-02  3.15972941e+00\n",
      "  -1.80975707e+00  3.82242820e-01  9.13453066e-01 -1.75059368e+00\n",
      "   2.16699666e-02  9.02727928e-01 -1.01099038e+00  1.00595328e+00\n",
      "  -1.70739682e-01 -4.50275681e-01 -8.78937102e-01  1.75780455e+00\n",
      "  -4.58581276e-01 -8.82797166e-01 -6.75245670e-01  8.70841338e-01\n",
      "   9.55359879e-01  7.88012595e-01 -1.08946575e+00 -8.28025663e-01\n",
      "  -1.82658564e+00 -1.13012802e+00  1.10586565e+00  3.61745363e-01\n",
      "  -1.95187504e+00  5.67301300e-01 -1.75405581e+00  5.51876851e-01\n",
      "   9.57498551e-01  1.43444058e+00 -3.55678315e-01  1.84943873e+00\n",
      "  -1.92708014e+00  1.13851558e+00  1.63942506e+00  2.57026849e-01\n",
      "   1.66402855e+00  8.78329825e-01 -7.40691621e-01  6.62998751e-01\n",
      "   8.24956072e-01  2.27227446e-01  1.16363059e+00 -5.54206652e-01\n",
      "   7.36114933e-01  1.48838837e+00  1.50254445e+00  1.19396153e+00\n",
      "   7.87864065e-01  6.06163516e-01 -2.83672363e+00  1.03591185e+00\n",
      "   9.90866377e-01  1.62417337e-01 -9.72556211e-01  1.07337582e+00\n",
      "   8.25868484e-01  1.22909370e+00 -4.70956394e-01 -8.73505515e-01\n",
      "   1.38606749e+00  1.54885040e+00  3.49594568e-01  5.31447414e-01\n",
      "  -2.27901051e+00 -8.36052633e-01  2.38918560e+00  8.59185999e-01\n",
      "   5.79482296e-01 -1.46786667e+00  5.19529495e-01  1.04575189e+00\n",
      "  -4.78261911e-01  2.33681621e+00 -1.06851556e+00]\n",
      " [ 6.24110729e-01 -4.55987975e-01 -1.82880491e+00 -1.71600605e+00\n",
      "  -3.71356421e-01 -6.48867460e-01 -7.26534041e-02 -1.90592574e+00\n",
      "  -9.05732769e-01 -1.42452084e+00 -8.29249247e-01 -1.76837052e+00\n",
      "  -1.73039364e+00  4.78579542e-01 -1.13904999e+00 -1.15305728e+00\n",
      "  -2.05289635e+00  1.24660567e+00 -1.17898795e+00 -3.87798996e-01\n",
      "  -1.09484581e-02 -1.69288377e+00 -2.03684479e+00  9.35559575e-01\n",
      "  -1.32664177e+00 -1.39644919e-01 -7.38694870e-01 -1.46985273e+00\n",
      "  -1.44718583e-01  2.33446358e-01 -2.51462707e+00 -3.60909832e-01\n",
      "  -2.29381971e+00  1.95138723e-01  4.17978771e-02  3.66186582e-01\n",
      "  -1.87209672e+00 -6.12868482e-01 -8.76984260e-01 -4.29390862e-01\n",
      "  -5.57570271e-01 -1.26081093e+00  9.11469357e-01 -2.26867255e-01\n",
      "  -2.28791024e+00 -1.76066724e+00 -2.27329407e+00 -1.70331203e+00\n",
      "  -1.86836572e+00 -1.28263071e+00 -1.53774483e+00  2.54315975e-01\n",
      "   1.04746686e+00 -2.33560884e+00 -1.67838555e+00 -1.15501432e+00\n",
      "  -1.92948984e+00 -2.00256825e+00 -3.12837567e+00 -8.06669491e-01\n",
      "  -3.94560324e-01 -1.27147048e+00 -2.53287997e+00 -1.35079404e+00\n",
      "  -1.36230549e+00 -2.15923721e+00 -2.27775319e-01 -1.34909390e+00\n",
      "  -2.31204282e+00 -1.47245711e+00 -3.58290535e-01 -9.00657970e-01\n",
      "  -3.10263149e+00 -7.77727474e-01 -2.02255469e+00 -3.69141309e-01\n",
      "  -2.17374162e-01 -7.00350164e-01 -2.03272023e+00  2.97099388e-01\n",
      "  -2.86242797e+00 -1.75044772e+00 -1.73634247e+00 -5.78469356e-01\n",
      "  -4.45009018e-01  7.36184643e-01 -2.99639697e-01 -1.66919609e+00\n",
      "  -1.13082898e+00  1.94677672e-01 -1.66720309e+00 -3.28562145e-01\n",
      "  -1.01659168e+00 -1.91812262e-01 -1.49262806e+00  9.62440887e-01\n",
      "   5.19560081e-01 -3.64556302e-02 -1.19147000e+00 -9.03942011e-01\n",
      "  -1.64330093e+00  2.21433249e+00 -1.32410540e+00 -9.45098926e-01\n",
      "  -2.20305006e+00  4.42831822e-01  5.55050959e-01  5.03643963e-02\n",
      "  -1.70100152e+00 -1.61712759e+00  3.82396840e-01 -1.17044214e+00\n",
      "  -5.50181431e-01 -1.67849081e+00 -1.45734244e+00 -3.02772373e+00\n",
      "  -9.70018179e-01 -4.33119094e-01 -2.66826953e+00  2.84915902e-02\n",
      "   1.49653150e+00 -1.19623625e+00 -1.87579331e+00 -2.14878334e+00\n",
      "  -3.43174362e+00 -3.04480004e+00 -1.53392034e+00 -1.28012604e+00\n",
      "  -1.46794139e+00  8.89542149e-01 -1.65505163e+00 -1.30826680e+00\n",
      "  -2.06551481e+00 -2.17738669e+00 -2.22565349e+00 -1.72382142e+00\n",
      "  -7.59739493e-01 -6.34687983e-01  6.25607126e-01  2.10385361e+00\n",
      "  -1.66382947e+00 -1.09304542e+00 -2.30540299e+00 -4.30092160e-01\n",
      "   2.48771048e-01 -2.41139543e-01 -1.36885327e+00 -1.81778359e+00\n",
      "  -2.54673833e+00 -2.26928559e+00  4.50718788e-01  4.65929054e-01\n",
      "   1.03307941e-01 -1.50660602e-01 -1.81284743e+00 -1.57907341e-01\n",
      "  -2.45862893e+00 -2.73927954e+00  8.95162473e-01 -1.05488497e+00\n",
      "  -5.98013045e-01 -1.21604215e+00 -2.77747071e+00 -1.68346856e+00\n",
      "  -1.68346856e+00  3.42750627e+00  2.98933554e+00  2.20059160e+00\n",
      "   1.21227746e+00  2.65181760e+00  4.93560075e-01 -2.61776747e-01\n",
      "   1.26485771e-02  2.87370588e-01  2.67258979e+00  1.32869214e+00\n",
      "   1.06495037e+00 -1.19599518e+00  1.63210499e+00  1.65603152e+00\n",
      "   1.90839438e+00  2.22220607e+00 -1.03560367e+00  3.32834850e-01\n",
      "   1.45974253e+00 -1.15018365e+00  1.07035164e+00  2.61659353e+00\n",
      "  -5.38173676e-01 -1.53832531e+00  9.94845520e-01  2.81843101e+00\n",
      "   1.02161781e+00  2.96521759e+00  3.26448398e-01  3.62859705e+00\n",
      "   1.70317729e-01  8.03973390e-01  2.91576516e+00 -5.08161331e-01\n",
      "  -1.81927484e+00  2.45124416e+00  1.60916279e+00  2.15052545e+00\n",
      "   4.02011140e+00 -3.98057583e-02  1.61848286e+00  1.65217809e+00\n",
      "   5.94297033e-01  1.33672683e-01 -2.30574052e-02  2.50244761e+00\n",
      "  -2.80704014e-01  1.60151225e+00  1.50220402e+00  2.03158524e+00\n",
      "   1.06473628e+00  2.69804656e+00  2.20520701e+00  7.63248551e-01\n",
      "   2.92325108e+00  4.00895722e+00 -1.83351385e-02  4.64543392e+00\n",
      "   2.07257421e+00  3.14268207e+00  1.66870959e+00  6.51264950e-01\n",
      "  -1.49252085e-01  1.48166051e+00 -2.22063581e+00  2.46791133e+00\n",
      "   1.91904872e+00  3.36660475e+00  2.83534111e+00  2.44404441e-01\n",
      "  -2.02766445e-01  1.07816964e+00  1.30334294e+00 -5.21969910e-01\n",
      "   2.97843850e+00  7.91370382e-01  1.34086441e+00  2.80998835e+00\n",
      "   1.89414306e+00 -2.64717957e-01  2.33236000e+00  1.66749048e+00\n",
      "  -6.47467855e-01  1.76295131e+00  3.53258245e+00  1.90690702e+00\n",
      "   2.22080478e+00  2.03223384e+00 -7.21984983e-01  1.63809100e+00\n",
      "   2.95613650e+00  1.49043380e+00  9.38365196e-01 -1.20144058e-01\n",
      "   2.09527012e+00 -1.37985027e+00  2.81468433e+00  9.95478319e-01\n",
      "   1.19198297e+00  6.24205035e-01  2.35384370e+00 -4.50054471e-01\n",
      "   2.77991960e+00  3.23628081e+00 -5.40748692e-01  4.72063927e-01\n",
      "   1.57253846e+00 -8.16632677e-01  1.28581045e+00 -4.36931251e-01\n",
      "   1.86431121e+00 -7.26512444e-01 -3.15969043e-01  2.63158109e+00\n",
      "   7.64330737e-01 -2.35336603e-01  1.80690338e-01 -1.67832632e+00\n",
      "   1.63929145e+00  2.28872040e+00 -1.24386827e+00 -8.56949860e-01\n",
      "   2.15706459e+00  1.41816441e+00 -4.06059853e-01  2.16927742e+00\n",
      "   2.24175970e+00  4.14157859e-01  9.67660777e-01  2.58185522e+00\n",
      "   4.14314275e-01  1.89555409e+00  1.14667187e+00 -7.08592873e-01\n",
      "   2.45900545e+00  1.76275536e+00 -8.60056772e-01]]\n",
      "(2, 303)\n",
      "(303,)\n"
     ]
    }
   ],
   "source": [
    "finalPCAData = np.matmul(eigenVector, standardizedData.T)\n",
    "\n",
    "print(finalPCAData)\n",
    "print(finalPCAData.shape)\n",
    "print(output.shape)"
   ]
  },
  {
   "cell_type": "code",
   "execution_count": 60,
   "metadata": {},
   "outputs": [
    {
     "name": "stdout",
     "output_type": "stream",
     "text": [
      "(303, 3)\n"
     ]
    }
   ],
   "source": [
    "finalPCAData = np.vstack((finalPCAData, output)).T\n",
    "print(finalPCAData.shape)"
   ]
  },
  {
   "cell_type": "code",
   "execution_count": 61,
   "metadata": {},
   "outputs": [],
   "source": [
    "finalDataFrame = pd.DataFrame(data = finalPCAData, columns=('1st', '2nd', 'Output'))"
   ]
  },
  {
   "cell_type": "code",
   "execution_count": 62,
   "metadata": {},
   "outputs": [
    {
     "name": "stdout",
     "output_type": "stream",
     "text": [
      "          1st       2nd  Output\n",
      "0   -2.321270  0.624111     1.0\n",
      "1    0.957351 -0.455988     1.0\n",
      "2   -0.042885 -1.828805     1.0\n",
      "3    0.495337 -1.716006     1.0\n",
      "4   -0.301156 -0.371356     1.0\n",
      "..        ...       ...     ...\n",
      "298  0.519529  1.146672     0.0\n",
      "299  1.045752 -0.708593     0.0\n",
      "300 -0.478262  2.459005     0.0\n",
      "301  2.336816  1.762755     0.0\n",
      "302 -1.068516 -0.860057     0.0\n",
      "\n",
      "[303 rows x 3 columns]\n"
     ]
    }
   ],
   "source": [
    "print(finalDataFrame)"
   ]
  },
  {
   "cell_type": "code",
   "execution_count": 64,
   "metadata": {},
   "outputs": [
    {
     "data": {
      "image/png": "[encoded data removed]",
      "text/plain": [
       "<Figure size 556x504 with 1 Axes>"
      ]
     },
     "metadata": {
      "needs_background": "light"
     },
     "output_type": "display_data"
    }
   ],
   "source": [
    "sn.FacetGrid(finalDataFrame, hue='Output', height=7).map(plt.scatter, '1st', '2nd').add_legend()\n",
    "plt.show()"
   ]
  },
  {
   "cell_type": "code",
   "execution_count": null,
   "metadata": {},
   "outputs": [],
   "source": []
  }
 ],
 "metadata": {
  "kernelspec": {
   "display_name": "Python 3.9.7 ('base')",
   "language": "python",
   "name": "python3"
  },
  "language_info": {
   "codemirror_mode": {
    "name": "ipython",
    "version": 3
   },
   "file_extension": ".py",
   "mimetype": "text/x-python",
   "name": "python",
   "nbconvert_exporter": "python",
   "pygments_lexer": "ipython3",
   "version": "3.9.7"
  },
  "orig_nbformat": 4,
  "vscode": {
   "interpreter": {
    "hash": "7679c2132d3f6ce38c9df14d554b39c06862b36a4e6689c81f9ae15bd0911d7d"
   }
  }
 },
 "nbformat": 4,
 "nbformat_minor": 2
}
